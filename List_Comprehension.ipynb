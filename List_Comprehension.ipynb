{
  "nbformat": 4,
  "nbformat_minor": 0,
  "metadata": {
    "colab": {
      "name": "List Comprehension.ipynb",
      "provenance": [],
      "collapsed_sections": []
    },
    "kernelspec": {
      "name": "python3",
      "display_name": "Python 3"
    },
    "language_info": {
      "name": "python"
    }
  },
  "cells": [
    {
      "cell_type": "code",
      "execution_count": null,
      "metadata": {
        "colab": {
          "base_uri": "https://localhost:8080/"
        },
        "id": "v_emMaQADuUM",
        "outputId": "cb80ec60-cb80-4f53-fc0d-c60e57f6f9e2"
      },
      "outputs": [
        {
          "output_type": "stream",
          "name": "stdout",
          "text": [
            "[8, 9, 10]\n"
          ]
        }
      ],
      "source": [
        "#To print the square of a no. in the list given , if it is greater than 50\n",
        "\n",
        "l=[i for i in range(0,11) if ( i**2>50)]\n",
        "print(l)"
      ]
    },
    {
      "cell_type": "code",
      "source": [
        "# For the given list if the value i < than 5 then print \"HI\" else print \"BYE\"\n",
        "\n",
        "\n",
        "l=[\"HI\" if(i<5) else \"BYE\" for i in range(0,11) ]\n",
        "print(l)"
      ],
      "metadata": {
        "colab": {
          "base_uri": "https://localhost:8080/"
        },
        "id": "szgUKspoFaNY",
        "outputId": "2a32287a-ccfe-4f23-977f-ae4f042e8cc8"
      },
      "execution_count": null,
      "outputs": [
        {
          "output_type": "stream",
          "name": "stdout",
          "text": [
            "['HI', 'HI', 'HI', 'HI', 'HI', 'BYE', 'BYE', 'BYE', 'BYE', 'BYE', 'BYE']\n"
          ]
        }
      ]
    },
    {
      "cell_type": "code",
      "source": [
        "# If x**2 <= excute 27*x foe values in range 1-20\n",
        "l=[27*i for i in range(1,21) if(i**2<=10)]\n",
        "print(l)"
      ],
      "metadata": {
        "colab": {
          "base_uri": "https://localhost:8080/"
        },
        "id": "wTOgdAWWHFcu",
        "outputId": "19b790e2-59b7-4ced-c7bb-924d89a6938a"
      },
      "execution_count": null,
      "outputs": [
        {
          "output_type": "stream",
          "name": "stdout",
          "text": [
            "[27, 54, 81]\n"
          ]
        }
      ]
    },
    {
      "cell_type": "code",
      "source": [
        "# Print all the even no. in the range 1-20\n",
        "[i for i in range(1,21) if i%2==0 ]"
      ],
      "metadata": {
        "colab": {
          "base_uri": "https://localhost:8080/"
        },
        "id": "Fm_j-J6bHTJz",
        "outputId": "a7371ee4-5fd1-4876-9b69-07f9134ce1c1"
      },
      "execution_count": null,
      "outputs": [
        {
          "output_type": "execute_result",
          "data": {
            "text/plain": [
              "[2, 4, 6, 8, 10, 12, 14, 16, 18, 20]"
            ]
          },
          "metadata": {},
          "execution_count": 5
        }
      ]
    },
    {
      "cell_type": "code",
      "source": [
        "# Find all the no . that can be divided by 2 and 5 in some range \n",
        "l=[i for i in range(1,101) if (i%2==0) and (i%5==0)]\n",
        "print(l)"
      ],
      "metadata": {
        "colab": {
          "base_uri": "https://localhost:8080/"
        },
        "id": "1wv7759KICgw",
        "outputId": "241670bf-d777-47dd-fb6d-c053fcc8d302"
      },
      "execution_count": null,
      "outputs": [
        {
          "output_type": "stream",
          "name": "stdout",
          "text": [
            "[10, 20, 30, 40, 50, 60, 70, 80, 90, 100]\n"
          ]
        }
      ]
    },
    {
      "cell_type": "code",
      "source": [
        "# Find all the no from 1-1000 that have 3 i them\n",
        "l=[i for i in range(1,1001) if ('3'in str(i))]\n",
        "print(l)"
      ],
      "metadata": {
        "colab": {
          "base_uri": "https://localhost:8080/"
        },
        "id": "knFAJIbdIvxF",
        "outputId": "4b2cec5f-a152-4c2e-d816-0af22e5faaf0"
      },
      "execution_count": null,
      "outputs": [
        {
          "output_type": "stream",
          "name": "stdout",
          "text": [
            "[3, 13, 23, 30, 31, 32, 33, 34, 35, 36, 37, 38, 39, 43, 53, 63, 73, 83, 93, 103, 113, 123, 130, 131, 132, 133, 134, 135, 136, 137, 138, 139, 143, 153, 163, 173, 183, 193, 203, 213, 223, 230, 231, 232, 233, 234, 235, 236, 237, 238, 239, 243, 253, 263, 273, 283, 293, 300, 301, 302, 303, 304, 305, 306, 307, 308, 309, 310, 311, 312, 313, 314, 315, 316, 317, 318, 319, 320, 321, 322, 323, 324, 325, 326, 327, 328, 329, 330, 331, 332, 333, 334, 335, 336, 337, 338, 339, 340, 341, 342, 343, 344, 345, 346, 347, 348, 349, 350, 351, 352, 353, 354, 355, 356, 357, 358, 359, 360, 361, 362, 363, 364, 365, 366, 367, 368, 369, 370, 371, 372, 373, 374, 375, 376, 377, 378, 379, 380, 381, 382, 383, 384, 385, 386, 387, 388, 389, 390, 391, 392, 393, 394, 395, 396, 397, 398, 399, 403, 413, 423, 430, 431, 432, 433, 434, 435, 436, 437, 438, 439, 443, 453, 463, 473, 483, 493, 503, 513, 523, 530, 531, 532, 533, 534, 535, 536, 537, 538, 539, 543, 553, 563, 573, 583, 593, 603, 613, 623, 630, 631, 632, 633, 634, 635, 636, 637, 638, 639, 643, 653, 663, 673, 683, 693, 703, 713, 723, 730, 731, 732, 733, 734, 735, 736, 737, 738, 739, 743, 753, 763, 773, 783, 793, 803, 813, 823, 830, 831, 832, 833, 834, 835, 836, 837, 838, 839, 843, 853, 863, 873, 883, 893, 903, 913, 923, 930, 931, 932, 933, 934, 935, 936, 937, 938, 939, 943, 953, 963, 973, 983, 993]\n"
          ]
        }
      ]
    },
    {
      "cell_type": "code",
      "source": [
        ""
      ],
      "metadata": {
        "id": "BR8JRZn1JvYc"
      },
      "execution_count": null,
      "outputs": []
    },
    {
      "cell_type": "code",
      "source": [
        "# Count the no of the spaces in that string \n",
        "s= \"I Love India \"\n",
        "l1=[i for i in s if i==' ']\n",
        "print(len(l1))"
      ],
      "metadata": {
        "colab": {
          "base_uri": "https://localhost:8080/"
        },
        "id": "2a0tNdhBJ3Wr",
        "outputId": "5e6cf297-089c-4ee8-8621-4bf5d96a9daa"
      },
      "execution_count": null,
      "outputs": [
        {
          "output_type": "stream",
          "name": "stdout",
          "text": [
            "3\n"
          ]
        }
      ]
    },
    {
      "cell_type": "code",
      "source": [
        "# Count the no. of consonent\n",
        "s=\" I am Student of CSIT Department\"\n",
        "v=['a','e','i','o','u', ' ']\n",
        "l=[i for i in s if (i not in v )]\n",
        "print(l)"
      ],
      "metadata": {
        "colab": {
          "base_uri": "https://localhost:8080/"
        },
        "id": "H-1PZQ2aK84s",
        "outputId": "6f9830e4-b97b-42af-c023-b30d834c85b9"
      },
      "execution_count": null,
      "outputs": [
        {
          "output_type": "stream",
          "name": "stdout",
          "text": [
            "['I', 'm', 'S', 't', 'd', 'n', 't', 'f', 'C', 'S', 'I', 'T', 'D', 'p', 'r', 't', 'm', 'n', 't']\n"
          ]
        }
      ]
    },
    {
      "cell_type": "code",
      "source": [
        ""
      ],
      "metadata": {
        "id": "QcxoF5QEMFjR"
      },
      "execution_count": null,
      "outputs": []
    }
  ]
}