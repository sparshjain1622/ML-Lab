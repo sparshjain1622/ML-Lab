{
  "nbformat": 4,
  "nbformat_minor": 0,
  "metadata": {
    "colab": {
      "name": "List Comprehension 2 .ipynb",
      "provenance": [],
      "include_colab_link": true
    },
    "kernelspec": {
      "name": "python3",
      "display_name": "Python 3"
    },
    "language_info": {
      "name": "python"
    }
  },
  "cells": [
    {
      "cell_type": "markdown",
      "metadata": {
        "id": "view-in-github",
        "colab_type": "text"
      },
      "source": [
        "<a href=\"https://colab.research.google.com/github/alphageek392/MACHINE-LEARNING/blob/main/List_Comprehension_2.ipynb\" target=\"_parent\"><img src=\"https://colab.research.google.com/assets/colab-badge.svg\" alt=\"Open In Colab\"/></a>"
      ]
    },
    {
      "cell_type": "code",
      "execution_count": null,
      "metadata": {
        "colab": {
          "base_uri": "https://localhost:8080/"
        },
        "id": "83EGKeNINFUA",
        "outputId": "aae18194-d257-4b56-88eb-a07ee58a1fbd"
      },
      "outputs": [
        {
          "output_type": "execute_result",
          "data": {
            "text/plain": [
              "[(0, 'hi'), (1, 129), (2, 3), (3, 4), (4, (0.1, 'hi'))]"
            ]
          },
          "metadata": {},
          "execution_count": 2
        }
      ],
      "source": [
        "# Get the index and value at the tuple for item in the list\n",
        "items=['hi',129,3,4,(0.1,'hi')]\n",
        "[(index,value) for index,value in enumerate(items)]"
      ]
    },
    {
      "cell_type": "code",
      "source": [
        "# Find the common numbers in the 2 list using list comprehension\n",
        "l1=[1,2,3,4,5,6,7]\n",
        "l2=[4,5,6,7,8,9,10,11]\n",
        "[i  for i in l1 for j in l2 if i==j]\n",
        "[i  for i in l1 if i in l2]"
      ],
      "metadata": {
        "colab": {
          "base_uri": "https://localhost:8080/"
        },
        "id": "Ra6bqnznOxfZ",
        "outputId": "dcfc74a0-34c2-44d6-f0ee-398b7695d574"
      },
      "execution_count": null,
      "outputs": [
        {
          "output_type": "execute_result",
          "data": {
            "text/plain": [
              "[4, 5, 6, 7]"
            ]
          },
          "metadata": {},
          "execution_count": 3
        }
      ]
    },
    {
      "cell_type": "code",
      "source": [
        "# Count the number of letters\n",
        "sentence=\"I Love CSIT Department\"\n",
        "l1=[i  for i in sentence if i!=' ']\n",
        "print(len(l1))"
      ],
      "metadata": {
        "colab": {
          "base_uri": "https://localhost:8080/"
        },
        "id": "r-92VAGePeNJ",
        "outputId": "880ce1bf-67b6-4a1d-ecf3-1656b5376f76"
      },
      "execution_count": null,
      "outputs": [
        {
          "output_type": "stream",
          "name": "stdout",
          "text": [
            "19\n"
          ]
        }
      ]
    },
    {
      "cell_type": "code",
      "source": [
        "# Count the number of words\n",
        "sentence=\"I Love CSIT Department\"\n",
        "i=sentence.split()\n",
        "l1=[i  for i in sentence.split()]\n",
        "print(len(l1))"
      ],
      "metadata": {
        "colab": {
          "base_uri": "https://localhost:8080/"
        },
        "id": "IoY3qq6CQXBC",
        "outputId": "e801d641-e7bd-4023-f8dd-de448001388d"
      },
      "execution_count": null,
      "outputs": [
        {
          "output_type": "stream",
          "name": "stdout",
          "text": [
            "4\n"
          ]
        }
      ]
    },
    {
      "cell_type": "code",
      "source": [
        "# Count the number of words which are not alpha numeric\n",
        "sentence=\"This is CSIT 1984  60\"\n",
        "i=sentence.split()\n",
        "[j  for j in i if not j.isalpha()]\n"
      ],
      "metadata": {
        "colab": {
          "base_uri": "https://localhost:8080/"
        },
        "id": "RNFSebdDRKkR",
        "outputId": "2058fc19-bc8b-465c-d61d-40381915f4f6"
      },
      "execution_count": null,
      "outputs": [
        {
          "output_type": "execute_result",
          "data": {
            "text/plain": [
              "['1984', '60']"
            ]
          },
          "metadata": {},
          "execution_count": 11
        }
      ]
    },
    {
      "cell_type": "code",
      "source": [
        "# Print the number of words having characters greater than 4\n",
        "sentence=\"This is CSIT 1984 60\"\n",
        "l1=[j  for j in sentence.split() if j.isalpha() and len(j)>=4]\n",
        "print(len(l1))"
      ],
      "metadata": {
        "colab": {
          "base_uri": "https://localhost:8080/"
        },
        "id": "LQZ0S16zSNTJ",
        "outputId": "e076ce3f-80a0-4e60-d037-549785e5568b"
      },
      "execution_count": null,
      "outputs": [
        {
          "output_type": "stream",
          "name": "stdout",
          "text": [
            "2\n"
          ]
        }
      ]
    },
    {
      "cell_type": "code",
      "source": [
        "# Use a nested list comprehension to find all the numbers that in range 1 to 100 that are divisible by any digit between 2 to 9\n",
        "[i  for i in range(1,101) if True in [True for j in range(2,10) if i % j == 0]]"
      ],
      "metadata": {
        "colab": {
          "base_uri": "https://localhost:8080/"
        },
        "id": "L-vW_iyBTgHR",
        "outputId": "0d543d8a-4ced-4e96-9618-668137cde3de"
      },
      "execution_count": null,
      "outputs": [
        {
          "output_type": "execute_result",
          "data": {
            "text/plain": [
              "[2,\n",
              " 3,\n",
              " 4,\n",
              " 5,\n",
              " 6,\n",
              " 7,\n",
              " 8,\n",
              " 9,\n",
              " 10,\n",
              " 12,\n",
              " 14,\n",
              " 15,\n",
              " 16,\n",
              " 18,\n",
              " 20,\n",
              " 21,\n",
              " 22,\n",
              " 24,\n",
              " 25,\n",
              " 26,\n",
              " 27,\n",
              " 28,\n",
              " 30,\n",
              " 32,\n",
              " 33,\n",
              " 34,\n",
              " 35,\n",
              " 36,\n",
              " 38,\n",
              " 39,\n",
              " 40,\n",
              " 42,\n",
              " 44,\n",
              " 45,\n",
              " 46,\n",
              " 48,\n",
              " 49,\n",
              " 50,\n",
              " 51,\n",
              " 52,\n",
              " 54,\n",
              " 55,\n",
              " 56,\n",
              " 57,\n",
              " 58,\n",
              " 60,\n",
              " 62,\n",
              " 63,\n",
              " 64,\n",
              " 65,\n",
              " 66,\n",
              " 68,\n",
              " 69,\n",
              " 70,\n",
              " 72,\n",
              " 74,\n",
              " 75,\n",
              " 76,\n",
              " 77,\n",
              " 78,\n",
              " 80,\n",
              " 81,\n",
              " 82,\n",
              " 84,\n",
              " 85,\n",
              " 86,\n",
              " 87,\n",
              " 88,\n",
              " 90,\n",
              " 91,\n",
              " 92,\n",
              " 93,\n",
              " 94,\n",
              " 95,\n",
              " 96,\n",
              " 98,\n",
              " 99,\n",
              " 100]"
            ]
          },
          "metadata": {},
          "execution_count": 39
        }
      ]
    }
  ]
}